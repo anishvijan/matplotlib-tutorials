{
 "cells": [
  {
   "cell_type": "code",
   "execution_count": 2,
   "metadata": {},
   "outputs": [],
   "source": [
    "import matplotlib.pyplot as plt\n",
    "import numpy as np"
   ]
  },
  {
   "cell_type": "code",
   "execution_count": 3,
   "metadata": {},
   "outputs": [],
   "source": [
    "x = np.array([10,40,30,15,5])"
   ]
  },
  {
   "cell_type": "code",
   "execution_count": 4,
   "metadata": {},
   "outputs": [
    {
     "data": {
      "text/plain": [
       "([<matplotlib.patches.Wedge at 0x1e7510a9730>,\n",
       "  <matplotlib.patches.Wedge at 0x1e7510a9ee0>,\n",
       "  <matplotlib.patches.Wedge at 0x1e7510a9e50>,\n",
       "  <matplotlib.patches.Wedge at 0x1e74d017ee0>,\n",
       "  <matplotlib.patches.Wedge at 0x1e74d017340>],\n",
       " [Text(1.0461621663333946, 0.3399186987098808, ''),\n",
       "  Text(-0.3399187231970732, 1.046162158377023, ''),\n",
       "  Text(-0.6465637025335373, -0.8899187482945414, ''),\n",
       "  Text(0.7778175685419842, -0.777817350068405, ''),\n",
       "  Text(1.0864572024462793, -0.17207773607473004, '')])"
      ]
     },
     "execution_count": 4,
     "metadata": {},
     "output_type": "execute_result"
    },
    {
     "data": {
      "image/png": "[encoded data removed]",
      "text/plain": [
       "<Figure size 432x288 with 1 Axes>"
      ]
     },
     "metadata": {},
     "output_type": "display_data"
    }
   ],
   "source": [
    "# pie chart\n",
    "plt.pie(x)"
   ]
  },
  {
   "cell_type": "code",
   "execution_count": 5,
   "metadata": {},
   "outputs": [],
   "source": [
    "mylabels=[1,2,3,4,5]"
   ]
  },
  {
   "cell_type": "code",
   "execution_count": 6,
   "metadata": {},
   "outputs": [
    {
     "data": {
      "text/plain": [
       "([<matplotlib.patches.Wedge at 0x1e7511e3be0>,\n",
       "  <matplotlib.patches.Wedge at 0x1e7511fed00>,\n",
       "  <matplotlib.patches.Wedge at 0x1e7514a7ac0>,\n",
       "  <matplotlib.patches.Wedge at 0x1e7514a7f70>,\n",
       "  <matplotlib.patches.Wedge at 0x1e7514c76d0>],\n",
       " [Text(1.0461621663333946, 0.3399186987098808, '1'),\n",
       "  Text(-0.3399187231970732, 1.046162158377023, '2'),\n",
       "  Text(-0.6465637025335373, -0.8899187482945414, '3'),\n",
       "  Text(0.7778175685419842, -0.777817350068405, '4'),\n",
       "  Text(1.0864572024462793, -0.17207773607473004, '5')])"
      ]
     },
     "execution_count": 6,
     "metadata": {},
     "output_type": "execute_result"
    },
    {
     "data": {
      "image/png": "[encoded data removed]",
      "text/plain": [
       "<Figure size 432x288 with 1 Axes>"
      ]
     },
     "metadata": {},
     "output_type": "display_data"
    }
   ],
   "source": [
    "plt.pie(x,labels=mylabels)"
   ]
  },
  {
   "cell_type": "code",
   "execution_count": null,
   "metadata": {},
   "outputs": [],
   "source": []
  }
 ],
 "metadata": {
  "kernelspec": {
   "display_name": "Python 3",
   "language": "python",
   "name": "python3"
  },
  "language_info": {
   "codemirror_mode": {
    "name": "ipython",
    "version": 3
   },
   "file_extension": ".py",
   "mimetype": "text/x-python",
   "name": "python",
   "nbconvert_exporter": "python",
   "pygments_lexer": "ipython3",
   "version": "3.8.5"
  }
 },
 "nbformat": 4,
 "nbformat_minor": 4
}
