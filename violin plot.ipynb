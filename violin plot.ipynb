{
 "cells": [
  {
   "cell_type": "code",
   "execution_count": 1,
   "metadata": {},
   "outputs": [],
   "source": [
    "import matplotlib.pyplot as plt"
   ]
  },
  {
   "cell_type": "code",
   "execution_count": 7,
   "metadata": {},
   "outputs": [
    {
     "data": {
      "text/plain": [
       "{'bodies': [<matplotlib.collections.PolyCollection at 0x17b276b6f70>,\n",
       "  <matplotlib.collections.PolyCollection at 0x17b276c42b0>,\n",
       "  <matplotlib.collections.PolyCollection at 0x17b276c45b0>,\n",
       "  <matplotlib.collections.PolyCollection at 0x17b276c48e0>],\n",
       " 'cmaxes': <matplotlib.collections.LineCollection at 0x17b276b6dc0>,\n",
       " 'cmins': <matplotlib.collections.LineCollection at 0x17b276c4e20>,\n",
       " 'cbars': <matplotlib.collections.LineCollection at 0x17b276d41f0>}"
      ]
     },
     "execution_count": 7,
     "metadata": {},
     "output_type": "execute_result"
    },
    {
     "data": {
      "image/png": "[encoded data removed]",
      "text/plain": [
       "<Figure size 432x288 with 1 Axes>"
      ]
     },
     "metadata": {
      "needs_background": "light"
     },
     "output_type": "display_data"
    }
   ],
   "source": [
    "# violin plot\n",
    "plt.violinplot(([-11,2,3,4],[1,2,3,4],[3,17,1,4],[1,2,3,4]))"
   ]
  },
  {
   "cell_type": "code",
   "execution_count": null,
   "metadata": {},
   "outputs": [],
   "source": []
  }
 ],
 "metadata": {
  "kernelspec": {
   "display_name": "Python 3",
   "language": "python",
   "name": "python3"
  },
  "language_info": {
   "codemirror_mode": {
    "name": "ipython",
    "version": 3
   },
   "file_extension": ".py",
   "mimetype": "text/x-python",
   "name": "python",
   "nbconvert_exporter": "python",
   "pygments_lexer": "ipython3",
   "version": "3.8.5"
  }
 },
 "nbformat": 4,
 "nbformat_minor": 4
}
