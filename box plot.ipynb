{
 "cells": [
  {
   "cell_type": "code",
   "execution_count": 1,
   "metadata": {},
   "outputs": [],
   "source": [
    "import matplotlib.pyplot as plt"
   ]
  },
  {
   "cell_type": "code",
   "execution_count": 4,
   "metadata": {},
   "outputs": [
    {
     "data": {
      "text/plain": [
       "{'whiskers': [<matplotlib.lines.Line2D at 0x26fa1e7c490>,\n",
       "  <matplotlib.lines.Line2D at 0x26fa1e7c820>,\n",
       "  <matplotlib.lines.Line2D at 0x26fa1e88cd0>,\n",
       "  <matplotlib.lines.Line2D at 0x26fa1e96070>,\n",
       "  <matplotlib.lines.Line2D at 0x26fa1ea14f0>,\n",
       "  <matplotlib.lines.Line2D at 0x26fa1ea1850>],\n",
       " 'caps': [<matplotlib.lines.Line2D at 0x26fa1e7cb80>,\n",
       "  <matplotlib.lines.Line2D at 0x26fa1e7cee0>,\n",
       "  <matplotlib.lines.Line2D at 0x26fa1e963d0>,\n",
       "  <matplotlib.lines.Line2D at 0x26fa1e96730>,\n",
       "  <matplotlib.lines.Line2D at 0x26fa1ea1bb0>,\n",
       "  <matplotlib.lines.Line2D at 0x26fa1ea1f10>],\n",
       " 'boxes': [<matplotlib.lines.Line2D at 0x26fa1e7c130>,\n",
       "  <matplotlib.lines.Line2D at 0x26fa1e88970>,\n",
       "  <matplotlib.lines.Line2D at 0x26fa1ea1190>],\n",
       " 'medians': [<matplotlib.lines.Line2D at 0x26fa1e88280>,\n",
       "  <matplotlib.lines.Line2D at 0x26fa1e96a90>,\n",
       "  <matplotlib.lines.Line2D at 0x26fa1eab2b0>],\n",
       " 'fliers': [<matplotlib.lines.Line2D at 0x26fa1e885e0>,\n",
       "  <matplotlib.lines.Line2D at 0x26fa1e96df0>,\n",
       "  <matplotlib.lines.Line2D at 0x26fa1eab610>],\n",
       " 'means': []}"
      ]
     },
     "execution_count": 4,
     "metadata": {},
     "output_type": "execute_result"
    },
    {
     "data": {
      "image/png": "[encoded data removed]",
      "text/plain": [
       "<Figure size 432x288 with 1 Axes>"
      ]
     },
     "metadata": {
      "needs_background": "light"
     },
     "output_type": "display_data"
    }
   ],
   "source": [
    "# box plot\n",
    "plt.boxplot(([1,2,3,4],[5,6,7,8],[1,3,4,2]))"
   ]
  },
  {
   "cell_type": "code",
   "execution_count": null,
   "metadata": {},
   "outputs": [],
   "source": []
  }
 ],
 "metadata": {
  "kernelspec": {
   "display_name": "Python 3",
   "language": "python",
   "name": "python3"
  },
  "language_info": {
   "codemirror_mode": {
    "name": "ipython",
    "version": 3
   },
   "file_extension": ".py",
   "mimetype": "text/x-python",
   "name": "python",
   "nbconvert_exporter": "python",
   "pygments_lexer": "ipython3",
   "version": "3.8.5"
  }
 },
 "nbformat": 4,
 "nbformat_minor": 4
}
